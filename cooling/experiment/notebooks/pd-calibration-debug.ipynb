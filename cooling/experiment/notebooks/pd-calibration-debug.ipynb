{
 "cells": [
  {
   "cell_type": "code",
   "execution_count": 1,
   "metadata": {
    "tags": []
   },
   "source": [
    "from gascooling.accommodation.evaluation import experiment\n",
    "import matplotlib.pyplot as plt\n",
    "import numpy as np\n",
    "import pandas as pd\n",
    "from scipy import odr\n",
    "from scipy.interpolate import splev, splrep"
   ],
   "outputs": []
  },
  {
   "cell_type": "code",
   "execution_count": 2,
   "metadata": {
    "tags": []
   },
   "source": [
    "TEMP_FIELD = \"Temperature_Testmass_(K)\"\n",
    "PD_FIELD = \"Voltage_Photodiode_(V)\"\n",
    "MEASUREMENT_NAME = \"live\"\n",
    "\n",
    "base_connector = experiment.baserow.Connector()\n",
    "PD_CALIBRATIONS = base_connector.pd_calibration_at_low_pressure()\n",
    "\n",
    "\n",
    "def f(B, x):\n",
    "    \"\"\"Linear function y = m*x + b\"\"\"\n",
    "    # B is a vector of the parameters.\n",
    "    # x is an array of the current x values.\n",
    "    # x is in the same format as the x passed to Data or RealData.\n",
    "    #\n",
    "    # Return an array in the same format as y passed to Data or RealData.\n",
    "    return B[0] * x + B[1]\n",
    "\n",
    "\n",
    "calibration_collection = experiment.calibration.CalibrationCollection()\n",
    "cali = experiment.calibration.LowPressureCalibration()\n",
    "_, data = cali._fit_photo_voltage_to_discommoding_cooling_power"
   ],
   "outputs": []
  },
  {
   "cell_type": "code",
   "execution_count": 3,
   "metadata": {
    "tags": []
   },
   "source": [
    "cooldowns_evals = cali.cooldowns\n",
    "print(data)\n",
    "fig, ax = plt.subplots()\n",
    "\n",
    "# print(data)\n",
    "\n",
    "ax.errorbar(\n",
    "    y=[power * 1000 for power in data[\"laser_power\"]],\n",
    "    x=[photo_voltage * 1000 for photo_voltage in data.index],\n",
    "    yerr=[power * 1000 for power in data[\"laser_power_err\"]],\n",
    "    fmt=\",\",\n",
    "    zorder=1,\n",
    ")"
   ],
   "outputs": []
  },
  {
   "cell_type": "code",
   "execution_count": 11,
   "metadata": {
    "tags": []
   },
   "source": [
    "fig1, ax1 = plt.subplots()\n",
    "ax1.errorbar(\n",
    "    x=temperatures,\n",
    "    y=[photo_voltage * 1000 for photo_voltage in photo_voltages],\n",
    "    yerr=[photo_voltage * 1000 for photo_voltage in photo_voltages_err],\n",
    "    fmt=\"o\",\n",
    ")\n",
    "ax1.set_xlabel(\"Equilibrated TM temperature without gas (K)\")\n",
    "ax1.set_ylabel(\"Photodiode Voltage (mV)\")\n",
    "plt.tight_layout()\n",
    "plt.grid(visible=True, which=\"both\", axis=\"both\")\n",
    "\n",
    "# Fit\n",
    "linear = odr.Model(f)\n",
    "fit_data = odr.RealData(\n",
    "    x=temperatures[:13], y=photo_voltages[:13]\n",
    ")  # , sx=laser_powers_err, sy=photo_voltages_err)\n",
    "fit_model = odr.ODR(fit_data, linear, beta0=[-0.01, -0.0095])\n",
    "fit_result = fit_model.run()\n",
    "\n",
    "print(fit_result.beta)\n",
    "# Plot fit\n",
    "xs = np.arange(7, 100, step=0.5)\n",
    "ys = f(fit_result.beta, xs)\n",
    "ax1.plot(xs, [y * 1000 for y in ys])\n",
    "plt.grid(visible=True, which=\"both\", axis=\"both\")"
   ],
   "outputs": []
  },
  {
   "cell_type": "code",
   "execution_count": 35,
   "metadata": {
    "tags": []
   },
   "source": [
    "df = pd.DataFrame(\n",
    "    data={\n",
    "        \"laser_power\": laser_powers,\n",
    "        \"laser_power_err\": laser_powers_err,\n",
    "        \"photo_voltage\": photo_voltages,\n",
    "    }\n",
    ")\n",
    "df = df.set_index(\"photo_voltage\")\n",
    "df = df.sort_index()\n",
    "fig2, ax2 = plt.subplots()\n",
    "ax2.errorbar(\n",
    "    y=[power * 1000 for power in laser_powers],\n",
    "    x=[photo_voltage * 1000 for photo_voltage in photo_voltages],\n",
    "    yerr=[err * 1000 for err in laser_powers_err],\n",
    "    xerr=[photo_voltage * 1000 for photo_voltage in photo_voltages_err],\n",
    "    fmt=\".\",\n",
    "    elinewidth=2,\n",
    "    zorder=1,\n",
    ")\n",
    "spline = splrep(\n",
    "    y=df[\"laser_power\"],\n",
    "    x=df.index,\n",
    "    s=9e-5,\n",
    "    # w=[1/err for err in df[\"laser_power_err\"]]\n",
    ")\n",
    "interpolated_f = spline\n",
    "xs = np.linspace(-0.8, 0, num=300)\n",
    "# ys = interpolated_f(xs)\n",
    "ys = splev(xs, spline)\n",
    "ax2.plot([x * 1000 for x in xs], [y * 1000 for y in ys], zorder=2)\n",
    "ax2.set_ylabel(\"Absorbed Laser power (mW)\")\n",
    "ax2.set_xlabel(\"Photodiode Voltage (mV)\")\n",
    "plt.tight_layout()\n",
    "plt.grid(visible=True, which=\"both\", axis=\"both\")"
   ],
   "outputs": []
  },
  {
   "cell_type": "code",
   "execution_count": 13,
   "metadata": {
    "tags": []
   },
   "source": [
    "fig3, ax3 = plt.subplots()\n",
    "ax3.errorbar(\n",
    "    x=[power * 1000 for power in laser_powers],\n",
    "    y=temperatures,\n",
    "    xerr=[err * 1000 for err in laser_powers_err],\n",
    "    fmt=\"o\",\n",
    ")\n",
    "ax3.set_xlabel(\"Discommoding cooling (mW)\")\n",
    "ax3.set_ylabel(\"Test mass temperature without gas (K)\")\n",
    "plt.tight_layout()\n",
    "plt.grid(visible=True, which=\"both\", axis=\"both\")"
   ],
   "outputs": []
  },
  {
   "cell_type": "code",
   "execution_count": 7,
   "metadata": {
    "tags": []
   },
   "source": [
    "fig4, ax4 = plt.subplots()\n",
    "xs = np.linspace(10, 140, num=100)\n",
    "ys = [calibration_collection.discommoding_cooling_by_temperature(x).nominal_value for x in xs]\n",
    "ax4.plot(\n",
    "    xs,\n",
    "    ys,\n",
    ")\n",
    "ax4.set_ylabel(\"Interpolated discommoding cooling (mW)\")\n",
    "ax4.set_xlabel(\"Test mass temperature (K)\")\n",
    "plt.tight_layout()\n",
    "plt.grid(visible=True, which=\"both\", axis=\"both\")"
   ],
   "outputs": []
  },
  {
   "cell_type": "code",
   "execution_count": null,
   "metadata": {},
   "source": [],
   "outputs": []
  }
 ],
 "metadata": {
  "kernelspec": {
   "display_name": "Python 3 (ipykernel)",
   "language": "python",
   "name": "python3"
  },
  "language_info": {
   "codemirror_mode": {
    "name": "ipython",
    "version": 3
   },
   "file_extension": ".py",
   "mimetype": "text/x-python",
   "name": "python",
   "nbconvert_exporter": "python",
   "pygments_lexer": "ipython3",
   "version": "3.10.10 | packaged by conda-forge | (main, Mar 24 2023, 20:12:31) [Clang 14.0.6 ]"
  },
  "vscode": {
   "interpreter": {
    "hash": "42d1ca236df30ff764303fd18a7e12f1f0fac5065a7d06ed8d6d6277b89102e8"
   }
  }
 },
 "nbformat": 4,
 "nbformat_minor": 4
}
