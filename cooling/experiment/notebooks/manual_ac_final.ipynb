{
 "cells": [
  {
   "cell_type": "code",
   "execution_count": 26,
   "metadata": {
    "tags": []
   },
   "source": [
    "\"\"\"\n",
    "Manual calculation of the accommodation coefficient at 18 K, to verify script\n",
    "\"\"\"\n",
    "\n",
    "import matplotlib.pyplot as plt\n",
    "import numpy as np\n",
    "from gascooling.accommodation.evaluation.experiment import Connector\n",
    "from gascooling.accommodation.evaluation.experiment import Helium, TestMass\n",
    "from gascooling.accommodation.evaluation.experiment import InfluxDataContainer\n",
    "from scipy import constants as const\n",
    "from scipy.stats import linregress\n",
    "from uncertainties import ufloat"
   ],
   "outputs": []
  },
  {
   "cell_type": "markdown",
   "metadata": {},
   "source": [
    "## Experimental configurations\n",
    "\n",
    "Low pressure regime indicates that any gas cooling is negligible. A pressure (warm) of less than 5e-6 mbar has been achieved. \n",
    "\n",
    "FMF pressure regime indicates that gas in the molecular flow cools the test mass. A pressure (warm) of around 1e-3 mbar (Kn ~ 10) has been achieved\n",
    "\n",
    "High pressure regime indicates that viscous gas cooling dominates. A pressure (warm) of more than 1e-1 mbar has been achieved\n",
    "\n",
    "- __L0__ : Low pressure, laser off. `P_screws = P_base_heat`\n",
    "- __LL__ : Low pressure, laser on. `P_screws = P_base_heat + P_laser`\n",
    "- __L0D__ : Low pressure, laser gets switched off, dynamic, time dependent cooldown is observed. ` P_screws + P_rad - P_base_heat ~ dQ/dt`\n",
    "\n",
    "- __F0__: Kn around 10, laser off. `P_screws + P_FMF = P_base_heat`\n",
    "- __FL__: Kn around 10, laser on. `P_screws + P_FMF = P_base_heat + P_laser`\n",
    "\n",
    "- __H0__: High pressure, laser off. `P_visc + P_screws = P_base_heat `\n",
    "- __HL__: High pressure, laser on. `P_visc + P_screws = P_base_heat + P_laser`\n",
    "- __H0D__ : High pressure, laser gets switched off, dynamic, time dependent cooldown is observed. ` P_screws + P_rad + P_visc - P_base_heat ~ dQ/dt`\n",
    "\n",
    "\n",
    "\n",
    "## Heating at base temperature (H0 config)\n",
    "\n",
    "`P_visc` can be calculated. In the configuration of H0 we can estimate the P_screw cooling power.\n",
    "If NO laser light is hitting the test mass, we have the following data (system in thermal equilibrium).\n",
    "\n",
    "- Temperature TM : 7.39 K\n",
    "- Temperature Frame: 7.36 K\n",
    "- Temperature Steel : 8.55 K"
   ]
  },
  {
   "cell_type": "code",
   "execution_count": 15,
   "metadata": {
    "tags": []
   },
   "source": [
    "number_of_screws = 6\n",
    "thermal_conductivity_polyimide = 0.03\n",
    "diameter_screws = 1e-3\n",
    "distance_frame_tm = 2e-3\n",
    "P_screws = (\n",
    "    number_of_screws\n",
    "    * thermal_conductivity_polyimide\n",
    "    * np.pi\n",
    "    * diameter_screws**2\n",
    "    * (7.39 - 7.36)\n",
    "    / (4 * distance_frame_tm)\n",
    ")\n",
    "print(f\"{P_screws=}\")\n",
    "print(\n",
    "    \"P_visc = \"\n",
    "    + str(\n",
    "        Helium(temperature=7.375).viscous_flow_cooling(\n",
    "            temp_cold_surface=7.36,\n",
    "            temp_hot_surface=7.39,\n",
    "            distance=distance_frame_tm,\n",
    "            surface=TestMass(temperature=7.39).surface_total,\n",
    "        )\n",
    "    )\n",
    ")"
   ],
   "outputs": []
  },
  {
   "cell_type": "markdown",
   "metadata": {},
   "source": [
    "With zero laser power, there is still a difference between Frame and Test mass, we assume a \"discommoding base heating\" P_base_heat, most is likely caused by the steel chamber (which in itself is heated by radiation from the heat shield (77 K))\n",
    "\n",
    "So, at base temperature we assume P_visc + P_screws = P_base_heat.\n",
    "\n",
    "Radiation is irrelevant because:\n"
   ]
  },
  {
   "cell_type": "code",
   "execution_count": 16,
   "metadata": {
    "tags": []
   },
   "source": [
    "emissivity_steel_301 = 0.6\n",
    "emissivity_tm = 0.85\n",
    "\n",
    "P_steel = (\n",
    "    const.Stefan_Boltzmann\n",
    "    * emissivity_steel_301\n",
    "    * emissivity_tm\n",
    "    * 2\n",
    "    * (2e-3 / 2) ** 2\n",
    "    * np.pi\n",
    "    * (8.625**4 - 7.453**4)\n",
    ")\n",
    "print(P_steel)"
   ],
   "outputs": []
  },
  {
   "cell_type": "code",
   "execution_count": 17,
   "metadata": {
    "tags": []
   },
   "source": [
    "tm = TestMass(temperature=7.398)\n",
    "helium = Helium(\n",
    "    temperature=ufloat((7.398 + 7.36) / 2, 4e-3)\n",
    ")  # 4e-3 is the given error of the temp sensors in this temp range\n",
    "P_base_heat = (\n",
    "    helium.viscous_flow_cooling(\n",
    "        surface=tm.surface_total,\n",
    "        distance=2e-3,\n",
    "        temp_hot_surface=7.398,\n",
    "        temp_cold_surface=7.36,\n",
    "    )\n",
    "    + P_screws\n",
    ")\n",
    "print(P_base_heat)"
   ],
   "outputs": []
  },
  {
   "cell_type": "markdown",
   "metadata": {},
   "source": [
    "*We thus have a heating of the test mass at base temperature of 2.37 mW*. This needs to be substracted from the laser power\n",
    "\n",
    "## Fitting photo diode voltage to absorbed laser power (HL config)\n",
    "\n",
    "In our setup we are not able to directly measure P_laser or P_optical (see 2021-07-08-gas-cooling.pdf), but we split of roughly 1% of laser power and direct it onto a photodiode, which behaves linearly to light power.\n",
    "We calibrate the photo voltage to absorbed light power in the test mass in regime HL.\n",
    "\n",
    "\n",
    "We have the following data (and more):\n",
    "```\n",
    "pd voltage  |  tm temperature  |  frame temperature\n",
    "\n",
    "-1.014      |  8.377           |  8.028\n",
    "-1.173      |  8.516           |  8.124\n",
    "-1.252      |  8.582           |  8.165\n",
    "```\n",
    "\n",
    "`P_absorbed_laser + P_base_heat = P_viscous + P_screws `"
   ]
  },
  {
   "cell_type": "code",
   "execution_count": 81,
   "metadata": {
    "tags": []
   },
   "source": [
    "## Double check if screws are irrelevant\n",
    "(\n",
    "    number_of_screws\n",
    "    * thermal_conductivity_polyimide\n",
    "    * np.pi\n",
    "    * diameter_screws**2\n",
    "    * (8.582 - 8.165)\n",
    "    / (4 * distance_frame_tm)\n",
    ") / Helium(temperature=8.4).viscous_flow_cooling(\n",
    "    temp_cold_surface=8.165,\n",
    "    temp_hot_surface=8.582,\n",
    "    distance=2e-3,\n",
    "    surface=TestMass(temperature=8.582).surface_total,\n",
    ")"
   ],
   "outputs": []
  },
  {
   "cell_type": "markdown",
   "metadata": {},
   "source": [
    "Viscous cooling is dominating (screws, radiation insignificant), we thus can calculate the absorbed laser power with \n",
    "\n",
    "--> `P_absorbed_laser =  P_viscous - P_base_heat`"
   ]
  },
  {
   "cell_type": "code",
   "execution_count": 95,
   "metadata": {
    "tags": []
   },
   "source": [
    "HL_measurements_metadata = Connector().pd_calibration_at_high_pressure()\n",
    "P_absorbed_lasers = [0]\n",
    "pd_voltages = [-0.001]\n",
    "for metadata in HL_measurements_metadata:\n",
    "    tm_data = InfluxDataContainer(\n",
    "        start=metadata[\"Start\"], stop=metadata[\"Stop\"], field=\"Temperature_Testmass_(K)\"\n",
    "    ).data[\"Temperature_Testmass_(K)\"]\n",
    "    frame_data = InfluxDataContainer(\n",
    "        start=metadata[\"Start\"], stop=metadata[\"Stop\"], field=\"Temperature_Holver_(K)\"\n",
    "    ).data[\"Temperature_Holver_(K)\"]\n",
    "    pd_data = InfluxDataContainer(\n",
    "        start=metadata[\"Start\"], stop=metadata[\"Stop\"], field=\"Voltage_Photodiode_(V)\"\n",
    "    ).data[\"Voltage_Photodiode_(V)\"]\n",
    "\n",
    "    tm_temperature = tm_data.mean()\n",
    "    frame_temperature = frame_data.mean()\n",
    "    pd_voltage = pd_data.mean()\n",
    "\n",
    "    helium = Helium(temperature=(tm_temperature + frame_temperature) / 2)\n",
    "    viscous_cooling = helium.viscous_flow_cooling(\n",
    "        surface=tm.surface_total,\n",
    "        distance=2e-3,\n",
    "        temp_hot_surface=tm_temperature,\n",
    "        temp_cold_surface=frame_temperature,\n",
    "    )\n",
    "    print(f\"{viscous_cooling=}\")\n",
    "    P_absorbed_laser_i = viscous_cooling - P_base_heat\n",
    "    P_absorbed_lasers.append(P_absorbed_laser_i.nominal_value)\n",
    "    pd_voltages.append(pd_voltage)"
   ],
   "outputs": []
  },
  {
   "cell_type": "code",
   "execution_count": 69,
   "metadata": {
    "tags": []
   },
   "source": [
    "plt.scatter(pd_voltages, P_absorbed_lasers, marker=\"o\")\n",
    "plt.xlabel(\"Photo diode voltage (V)\")\n",
    "plt.ylabel(\"Absorbed Laser power (W)\")\n",
    "\n",
    "slope, intercept, _, _, _ = linregress(pd_voltages, P_absorbed_lasers)\n",
    "x_for_fit = np.linspace(min(pd_voltages), max(pd_voltages))\n",
    "y_for_fit = slope * x_for_fit + intercept\n",
    "plt.plot(x_for_fit, y_for_fit)"
   ],
   "outputs": []
  },
  {
   "cell_type": "markdown",
   "metadata": {},
   "source": [
    "## Discommoding (via screws and cables and radiation) cooling at temperatures > 10 K\n",
    "\n",
    "### Experimental data\n",
    "While the gas is in molecular flow, the other cooling channels might also have a significant role to the overall cooling.\n",
    "At pressures below measurement range (so no gas cooling at all) we measured a tm temperature of 18 K with a pd voltage of 0.050 mV, while the frame is at 7.995 K.\n",
    "\n",
    "This leads to a experimentally determined discommoding cooling power at 18 K:\n"
   ]
  },
  {
   "cell_type": "code",
   "execution_count": 85,
   "metadata": {
    "tags": []
   },
   "source": [
    "P_discommoding_experimental = slope * -0.050 + intercept\n",
    "print(P_discommoding_experimental)"
   ],
   "outputs": []
  },
  {
   "cell_type": "markdown",
   "metadata": {},
   "source": [
    "1 mW of cooling power via screws and radiation"
   ]
  },
  {
   "cell_type": "markdown",
   "metadata": {},
   "source": [
    "### Theory of discommoding\n",
    "#### Conduction through screws"
   ]
  },
  {
   "cell_type": "code",
   "execution_count": 83,
   "metadata": {
    "tags": []
   },
   "source": [
    "number_of_screws = 6\n",
    "thermal_conductivity_polyimide = 0.03\n",
    "diameter_screws = 1e-3\n",
    "distance_frame_tm = 2e-3\n",
    "P_screws = (\n",
    "    number_of_screws\n",
    "    * thermal_conductivity_polyimide\n",
    "    * np.pi\n",
    "    * diameter_screws**2\n",
    "    * (18 - 7.995)\n",
    "    / (4 * distance_frame_tm)\n",
    ")\n",
    "print(P_screws)"
   ],
   "outputs": []
  },
  {
   "cell_type": "markdown",
   "metadata": {
    "tags": []
   },
   "source": [
    "The screws have a conduction cooling of 0.7 mW\n",
    "\n",
    "#### Radiation\n"
   ]
  },
  {
   "cell_type": "code",
   "execution_count": 84,
   "metadata": {
    "tags": []
   },
   "source": [
    "emissivity_tm = 0.85\n",
    "emissivity_frame = 0.05\n",
    "P_radiative_discommoding = (\n",
    "    const.Stefan_Boltzmann\n",
    "    * emissivity_frame\n",
    "    * emissivity_tm\n",
    "    * TestMass(temperature=None).surface_total\n",
    "    * (18**4 - 7.998**4)\n",
    ")\n",
    "print(f\"Radiation cooling: {P_radiative_discommoding}\")\n",
    "\n",
    "print(\n",
    "    f\"Radiation+screws discommoding cooling theory {P_radiative_discommoding+P_screws}\"\n",
    ")"
   ],
   "outputs": []
  },
  {
   "cell_type": "markdown",
   "metadata": {},
   "source": [
    "Supporting the experimental 1 mW of discommoding cooling at 18 K (cable for tm temperature sensor not calculated)\n",
    "\n",
    "# Accommodation coefficient\n",
    "In the regime of free molecular flow (FL), we have the following equation (p_viscous << P_fmf)\n",
    "```\n",
    "P_absorbed_laser + P_base_heat = P_discommoding + P_fmf\n",
    "```\n",
    "\n",
    "We measured the following\n",
    "- TM temp 17.88 K( not quite 18 K, but close enough for now, just relevant for discommoding  )\n",
    "- frame temp 8.148 K\n",
    "- Pressure at gas handling 17.8e-4 mbar\n",
    "- pd voltage -1.34 V\n",
    "\n",
    "### Pressure correction\n",
    "\n"
   ]
  },
  {
   "cell_type": "code",
   "execution_count": 86,
   "metadata": {
    "tags": []
   },
   "source": [
    "pressure_warm = 17.8e-4 * 100  # in Pa\n",
    "pressure_in = 0.5 * pressure_warm * np.sqrt(8.148 / 293)\n",
    "print(f\"{pressure_in=} Pa\")"
   ],
   "outputs": []
  },
  {
   "cell_type": "markdown",
   "metadata": {},
   "source": [
    "### Absorbed laser power and FMF cooling power"
   ]
  },
  {
   "cell_type": "code",
   "execution_count": 115,
   "metadata": {
    "tags": []
   },
   "source": [
    "P_absorbed_laser = slope * -1.34 + intercept\n",
    "print(f\"{P_absorbed_laser=} W\")\n",
    "\n",
    "P_fmf = P_absorbed_laser - P_discommoding_experimental\n",
    "print(f\"{P_fmf=} W\")"
   ],
   "outputs": []
  },
  {
   "cell_type": "markdown",
   "metadata": {
    "tags": []
   },
   "source": [
    "### acc"
   ]
  },
  {
   "cell_type": "code",
   "execution_count": 116,
   "metadata": {
    "tags": []
   },
   "source": [
    "alpha = (\n",
    "    P_fmf\n",
    "    * np.sqrt(np.pi * helium.mass * 8.148 / (8 * const.k))\n",
    "    * 1\n",
    "    / (pressure_in * tm.surface_total * (17.88 - 8.148))\n",
    ")"
   ],
   "outputs": []
  },
  {
   "cell_type": "code",
   "execution_count": 117,
   "metadata": {
    "tags": []
   },
   "source": [
    "print(f\"alpha={round(alpha.nominal_value,4)} @ 17.88 K\")\n",
    "print(\"with\")\n",
    "print(f\"P_fmf = {P_fmf*1000} mW\")\n",
    "print(f\"P_base_heat = {P_base_heat*1000} mW\")\n",
    "print(f\"P_absorbed_laser = {P_absorbed_laser*1000} mW\")\n",
    "print(f\"P_discommoding_experimental = {P_discommoding_experimental*1000} mW\")\n",
    "print(f\"\")\n",
    "print(f\"{pressure_in=} Pa = {pressure_in/100*1e-4} * 10^-4 mbar\")"
   ],
   "outputs": []
  },
  {
   "cell_type": "markdown",
   "metadata": {},
   "source": [
    "# Verification with Christoph's formula\n"
   ]
  },
  {
   "cell_type": "code",
   "execution_count": 119,
   "metadata": {
    "tags": []
   },
   "source": [
    "d = 2e-3\n",
    "T_frame = 8.148\n",
    "aP_opt_3 = absorbed_laser_power\n",
    "aP_opt_2 = P_discommoding_experimental\n",
    "alpha_cr = (\n",
    "    np.sqrt(np.pi * helium.mass * T_frame / (8 * const.k))\n",
    "    * (aP_opt_3 - aP_opt_2)\n",
    "    / (pressure_in * TestMass(temperature=None).surface_total)\n",
    "    / (17.88 - T_frame)\n",
    ")\n",
    "print(alpha_cr)"
   ],
   "outputs": []
  },
  {
   "cell_type": "code",
   "execution_count": null,
   "metadata": {},
   "source": [],
   "outputs": []
  }
 ],
 "metadata": {
  "kernelspec": {
   "display_name": "Python 3 (ipykernel)",
   "language": "python",
   "name": "python3"
  },
  "language_info": {
   "codemirror_mode": {
    "name": "ipython",
    "version": 3
   },
   "file_extension": ".py",
   "mimetype": "text/x-python",
   "name": "python",
   "nbconvert_exporter": "python",
   "pygments_lexer": "ipython3",
   "version": "3.10.10"
  }
 },
 "nbformat": 4,
 "nbformat_minor": 4
}
