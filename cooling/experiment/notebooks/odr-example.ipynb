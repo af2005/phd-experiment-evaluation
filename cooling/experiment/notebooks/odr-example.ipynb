{
 "cells": [
  {
   "cell_type": "code",
   "execution_count": null,
   "id": "1a0dd67f-5b65-404e-b8c4-ac0e133afa18",
   "metadata": {
    "tags": [],
    "is_executing": true
   },
   "source": [
    "import pandas as pd\n",
    "from scipy import Model, odr\n",
    "from uncertainties import ufloat\n",
    "\n",
    "\n",
    "def polynom_second_grade(p, x):\n",
    "    a, b, c = p\n",
    "    return a + b * x + c * x**2\n",
    "\n",
    "\n",
    "class RealUncertainData(odr.RealData):\n",
    "    def __init__(self, x, y):\n",
    "        nx = x\n",
    "        ny = y\n",
    "        sx = sy = None\n",
    "\n",
    "        try:\n",
    "            nx = [p.nominal_value for p in x]\n",
    "            sx = [p.std_dev for p in x]\n",
    "        except AttributeError:\n",
    "            pass\n",
    "        try:\n",
    "            ny = [p.nominal_value for p in y]\n",
    "            sy = [p.std_dev for p in y]\n",
    "        except AttributeError:\n",
    "            pass\n",
    "        super().__init__(x=nx, y=ny, sx=sx, sy=sy)"
   ],
   "outputs": []
  },
  {
   "cell_type": "code",
   "execution_count": null,
   "id": "b439aab3-403e-43ca-893b-c3eb1d5c5d33",
   "metadata": {
    "is_executing": true
   },
   "source": [
    "df = pd.DataFrame()\n",
    "\n",
    "model = Model(polynom_second_grade)\n",
    "real_data = RealUncertainData(\n",
    "    x=df.index,\n",
    "    y=df[\"foobar\"].to_numpy(),\n",
    ")\n",
    "\n",
    "odr = odr.ODR(real_data, model, beta0=[1.0] * 3)\n",
    "\n",
    "odr_fit = odr.run()\n",
    "df[\"fit\"] = model.fcn(odr_fit.beta, df.index)"
   ],
   "outputs": []
  },
  {
   "cell_type": "code",
   "execution_count": null,
   "source": [],
   "metadata": {
    "collapsed": false
   },
   "id": "2d815a6176f0ca34",
   "outputs": []
  }
 ],
 "metadata": {
  "kernelspec": {
   "display_name": "Python 3 (ipykernel)",
   "language": "python",
   "name": "python3"
  },
  "language_info": {
   "codemirror_mode": {
    "name": "ipython",
    "version": 3
   },
   "file_extension": ".py",
   "mimetype": "text/x-python",
   "name": "python",
   "nbconvert_exporter": "python",
   "pygments_lexer": "ipython3",
   "version": "3.9.13"
  }
 },
 "nbformat": 4,
 "nbformat_minor": 5
}
