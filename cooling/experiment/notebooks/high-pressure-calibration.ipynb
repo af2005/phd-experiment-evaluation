{
 "cells": [
  {
   "cell_type": "code",
   "execution_count": 1,
   "metadata": {
    "collapsed": true,
    "ExecuteTime": {
     "start_time": "2023-06-01T12:48:41.132046Z",
     "end_time": "2023-06-01T12:48:42.560432Z"
    }
   },
   "outputs": [],
   "source": [
    "import evaluation.experiment.calibration"
   ]
  },
  {
   "cell_type": "code",
   "execution_count": 2,
   "outputs": [
    {
     "ename": "AttributeError",
     "evalue": "'NoneType' object has no attribute 'nominal_value'",
     "output_type": "error",
     "traceback": [
      "\u001B[0;31m---------------------------------------------------------------------------\u001B[0m",
      "\u001B[0;31mAttributeError\u001B[0m                            Traceback (most recent call last)",
      "Cell \u001B[0;32mIn[2], line 2\u001B[0m\n\u001B[1;32m      1\u001B[0m cali \u001B[38;5;241m=\u001B[39m evaluation\u001B[38;5;241m.\u001B[39mexperiment\u001B[38;5;241m.\u001B[39mcalibration\u001B[38;5;241m.\u001B[39mHighPressureCalibrationManual()\n\u001B[0;32m----> 2\u001B[0m \u001B[43mcali\u001B[49m\u001B[38;5;241;43m.\u001B[39;49m\u001B[43mdiscommoding_heating_at_base_temp\u001B[49m\n",
      "File \u001B[0;32m/opt/homebrew/Caskroom/miniforge/base/lib/python3.10/functools.py:981\u001B[0m, in \u001B[0;36mcached_property.__get__\u001B[0;34m(self, instance, owner)\u001B[0m\n\u001B[1;32m    979\u001B[0m val \u001B[38;5;241m=\u001B[39m cache\u001B[38;5;241m.\u001B[39mget(\u001B[38;5;28mself\u001B[39m\u001B[38;5;241m.\u001B[39mattrname, _NOT_FOUND)\n\u001B[1;32m    980\u001B[0m \u001B[38;5;28;01mif\u001B[39;00m val \u001B[38;5;129;01mis\u001B[39;00m _NOT_FOUND:\n\u001B[0;32m--> 981\u001B[0m     val \u001B[38;5;241m=\u001B[39m \u001B[38;5;28;43mself\u001B[39;49m\u001B[38;5;241;43m.\u001B[39;49m\u001B[43mfunc\u001B[49m\u001B[43m(\u001B[49m\u001B[43minstance\u001B[49m\u001B[43m)\u001B[49m\n\u001B[1;32m    982\u001B[0m     \u001B[38;5;28;01mtry\u001B[39;00m:\n\u001B[1;32m    983\u001B[0m         cache[\u001B[38;5;28mself\u001B[39m\u001B[38;5;241m.\u001B[39mattrname] \u001B[38;5;241m=\u001B[39m val\n",
      "File \u001B[0;32m~/repos/cryogenic-mirrors/publications/helium-accommodation/evaluation/experiment/calibration.py:441\u001B[0m, in \u001B[0;36mHighPressureCalibration.discommoding_heating_at_base_temp\u001B[0;34m(self)\u001B[0m\n\u001B[1;32m    434\u001B[0m tm_data \u001B[38;5;241m=\u001B[39m influx\u001B[38;5;241m.\u001B[39mInfluxDataContainer(\n\u001B[1;32m    435\u001B[0m     start\u001B[38;5;241m=\u001B[39m\u001B[38;5;124m\"\u001B[39m\u001B[38;5;124m2023-06-01T06:30:00Z\u001B[39m\u001B[38;5;124m\"\u001B[39m,\n\u001B[1;32m    436\u001B[0m     stop\u001B[38;5;241m=\u001B[39m\u001B[38;5;124m\"\u001B[39m\u001B[38;5;124m2023-06-01T08:30:00Z\u001B[39m\u001B[38;5;124m\"\u001B[39m,\n\u001B[1;32m    437\u001B[0m     field\u001B[38;5;241m=\u001B[39m\u001B[38;5;124m\"\u001B[39m\u001B[38;5;124mTemperature_Testmass_(K)\u001B[39m\u001B[38;5;124m\"\u001B[39m,\n\u001B[1;32m    438\u001B[0m )\u001B[38;5;241m.\u001B[39mdata[\u001B[38;5;124m\"\u001B[39m\u001B[38;5;124mTemperature_Testmass_(K)\u001B[39m\u001B[38;5;124m\"\u001B[39m]\n\u001B[1;32m    440\u001B[0m tm \u001B[38;5;241m=\u001B[39m TestMass(temperature\u001B[38;5;241m=\u001B[39mufloat(tm_data\u001B[38;5;241m.\u001B[39mmean(), tm_data\u001B[38;5;241m.\u001B[39mstd()))\n\u001B[0;32m--> 441\u001B[0m \u001B[38;5;28;01mreturn\u001B[39;00m \u001B[43mHelium\u001B[49m\u001B[43m(\u001B[49m\u001B[43m)\u001B[49m\u001B[38;5;241;43m.\u001B[39;49m\u001B[43mviscous_flow_cooling\u001B[49m\u001B[43m(\u001B[49m\n\u001B[1;32m    442\u001B[0m \u001B[43m    \u001B[49m\u001B[43mtemp_hot_surface\u001B[49m\u001B[38;5;241;43m=\u001B[39;49m\u001B[43mtm\u001B[49m\u001B[38;5;241;43m.\u001B[39;49m\u001B[43mtemperature\u001B[49m\u001B[43m,\u001B[49m\n\u001B[1;32m    443\u001B[0m \u001B[43m    \u001B[49m\u001B[43mtemp_cold_surface\u001B[49m\u001B[38;5;241;43m=\u001B[39;49m\u001B[43mufloat\u001B[49m\u001B[43m(\u001B[49m\u001B[43mframe\u001B[49m\u001B[38;5;241;43m.\u001B[39;49m\u001B[43mmean\u001B[49m\u001B[43m(\u001B[49m\u001B[43m)\u001B[49m\u001B[43m,\u001B[49m\u001B[43m \u001B[49m\u001B[43mframe\u001B[49m\u001B[38;5;241;43m.\u001B[39;49m\u001B[43mstd\u001B[49m\u001B[43m(\u001B[49m\u001B[43m)\u001B[49m\u001B[43m)\u001B[49m\u001B[43m,\u001B[49m\n\u001B[1;32m    444\u001B[0m \u001B[43m    \u001B[49m\u001B[43mdistance\u001B[49m\u001B[38;5;241;43m=\u001B[39;49m\u001B[38;5;241;43m2e-3\u001B[39;49m\u001B[43m,\u001B[49m\n\u001B[1;32m    445\u001B[0m \u001B[43m    \u001B[49m\u001B[43msurface\u001B[49m\u001B[38;5;241;43m=\u001B[39;49m\u001B[43mtm\u001B[49m\u001B[38;5;241;43m.\u001B[39;49m\u001B[43msurface_total\u001B[49m\n\u001B[1;32m    446\u001B[0m \u001B[43m\u001B[49m\u001B[43m)\u001B[49m\n",
      "File \u001B[0;32m~/repos/cryogenic-mirrors/publications/helium-accommodation/evaluation/experiment/gas_cooling/gas.py:108\u001B[0m, in \u001B[0;36mHelium.viscous_flow_cooling\u001B[0;34m(self, surface, distance, temp_hot_surface, temp_cold_surface)\u001B[0m\n\u001B[1;32m     96\u001B[0m \u001B[38;5;28;01mdef\u001B[39;00m \u001B[38;5;21mviscous_flow_cooling\u001B[39m(\n\u001B[1;32m     97\u001B[0m     \u001B[38;5;28mself\u001B[39m, surface: \u001B[38;5;28mfloat\u001B[39m, distance: \u001B[38;5;28mfloat\u001B[39m, temp_hot_surface, temp_cold_surface\n\u001B[1;32m     98\u001B[0m ):\n\u001B[1;32m     99\u001B[0m \u001B[38;5;250m    \u001B[39m\u001B[38;5;124;03m\"\"\"\u001B[39;00m\n\u001B[1;32m    100\u001B[0m \u001B[38;5;124;03m    Returns the viscous flow cooling of gas between two identical, parallel plates.\u001B[39;00m\n\u001B[1;32m    101\u001B[0m \u001B[38;5;124;03m    :param surface: Surface of a plate in square meters\u001B[39;00m\n\u001B[0;32m   (...)\u001B[0m\n\u001B[1;32m    105\u001B[0m \u001B[38;5;124;03m    :return: Cooling power in Watt\u001B[39;00m\n\u001B[1;32m    106\u001B[0m \u001B[38;5;124;03m    \"\"\"\u001B[39;00m\n\u001B[1;32m    107\u001B[0m     \u001B[38;5;28;01mreturn\u001B[39;00m (\n\u001B[0;32m--> 108\u001B[0m         \u001B[38;5;28;43mself\u001B[39;49m\u001B[38;5;241;43m.\u001B[39;49m\u001B[43mthermal_conductivity\u001B[49m\n\u001B[1;32m    109\u001B[0m         \u001B[38;5;241m*\u001B[39m surface\n\u001B[1;32m    110\u001B[0m         \u001B[38;5;241m*\u001B[39m (temp_hot_surface \u001B[38;5;241m-\u001B[39m temp_cold_surface)\n\u001B[1;32m    111\u001B[0m         \u001B[38;5;241m/\u001B[39m distance\n\u001B[1;32m    112\u001B[0m     )\n",
      "File \u001B[0;32m~/repos/cryogenic-mirrors/publications/helium-accommodation/evaluation/experiment/gas_cooling/gas.py:76\u001B[0m, in \u001B[0;36mHelium.thermal_conductivity\u001B[0;34m(self)\u001B[0m\n\u001B[1;32m     70\u001B[0m \u001B[38;5;129m@property\u001B[39m\n\u001B[1;32m     71\u001B[0m \u001B[38;5;28;01mdef\u001B[39;00m \u001B[38;5;21mthermal_conductivity\u001B[39m(\u001B[38;5;28mself\u001B[39m):\n\u001B[1;32m     72\u001B[0m \u001B[38;5;250m    \u001B[39m\u001B[38;5;124;03m\"\"\"\u001B[39;00m\n\u001B[1;32m     73\u001B[0m \u001B[38;5;124;03m    :return: thermal conductivity in W/(m*K)\u001B[39;00m\n\u001B[1;32m     74\u001B[0m \u001B[38;5;124;03m    \"\"\"\u001B[39;00m\n\u001B[1;32m     75\u001B[0m     \u001B[38;5;28;01mreturn\u001B[39;00m interpolate\u001B[38;5;241m.\u001B[39msplev(\n\u001B[0;32m---> 76\u001B[0m         \u001B[38;5;28;43mself\u001B[39;49m\u001B[38;5;241;43m.\u001B[39;49m\u001B[43mtemperature\u001B[49m\u001B[38;5;241;43m.\u001B[39;49m\u001B[43mnominal_value\u001B[49m, \u001B[38;5;28mself\u001B[39m\u001B[38;5;241m.\u001B[39m_fit_thermal_conductivity\n\u001B[1;32m     77\u001B[0m     )\n",
      "\u001B[0;31mAttributeError\u001B[0m: 'NoneType' object has no attribute 'nominal_value'"
     ]
    }
   ],
   "source": [
    "cali = evaluation.experiment.calibration.HighPressureCalibrationManual()\n",
    "cali.discommoding_heating_at_base_temp"
   ],
   "metadata": {
    "collapsed": false,
    "ExecuteTime": {
     "start_time": "2023-06-01T11:34:32.128382Z",
     "end_time": "2023-06-01T11:34:32.443616Z"
    }
   }
  },
  {
   "cell_type": "code",
   "execution_count": null,
   "outputs": [],
   "source": [],
   "metadata": {
    "collapsed": false
   }
  }
 ],
 "metadata": {
  "kernelspec": {
   "display_name": "Python 3",
   "language": "python",
   "name": "python3"
  },
  "language_info": {
   "codemirror_mode": {
    "name": "ipython",
    "version": 2
   },
   "file_extension": ".py",
   "mimetype": "text/x-python",
   "name": "python",
   "nbconvert_exporter": "python",
   "pygments_lexer": "ipython2",
   "version": "2.7.6"
  }
 },
 "nbformat": 4,
 "nbformat_minor": 0
}
