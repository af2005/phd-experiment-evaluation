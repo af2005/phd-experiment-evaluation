{
 "cells": [
  {
   "cell_type": "code",
   "execution_count": 32,
   "id": "21d1e77f-fb78-409f-9555-47a273708542",
   "metadata": {},
   "outputs": [],
   "source": [
    "import matplotlib.pyplot as plt\n",
    "import numpy as np\n",
    "import pandas as pd\n",
    "import scipy.optimize as opti"
   ]
  },
  {
   "cell_type": "code",
   "execution_count": 63,
   "id": "1266f3a8-7783-440c-80b1-7adc256886bf",
   "metadata": {},
   "outputs": [
    {
     "data": {
      "text/plain": [
       "'0.021456745656539752'"
      ]
     },
     "metadata": {},
     "output_type": "display_data"
    },
    {
     "data": {
      "text/plain": [
       "array([ 2.14567457e-02,  1.93644549e-04, -2.45846620e+04])"
      ]
     },
     "metadata": {},
     "output_type": "display_data"
    },
    {
     "data": {
      "image/png": "[encoded data removed]",
      "text/plain": [
       "<Figure size 432x288 with 1 Axes>"
      ]
     },
     "metadata": {
      "needs_background": "light"
     },
     "output_type": "display_data"
    }
   ],
   "source": [
    "def exp_decay(x, a, b, timeshift):\n",
    "    return np.exp(-(x - timeshift) * b) + a\n",
    "\n",
    "\n",
    "data = pd.read_csv(\"Data/first_acc.csv\", header=3).set_index(\"_time\")\n",
    "data.index = pd.to_datetime(data.index)\n",
    "first_approach = data.loc[\"2022-11-24T13:24\":\"2022-11-24T14:24\"]\n",
    "first_approach.index = first_approach.index.astype(np.int64) // 10**9\n",
    "first_approach.index = first_approach.index - first_approach.index[0]\n",
    "\n",
    "# first_approach[\"int_time\"] = data.index.apply(lambda x: x.total_seconds())\n",
    "# first_approach[\"_value\"].plot()\n",
    "fit_para, fit_confidence = opti.curve_fit(\n",
    "    exp_decay, first_approach.index, first_approach[\"_value\"], [0.023, 0.001, 1]\n",
    ")\n",
    "display(f\"{exp_decay(1e10, *fit_para)}\")\n",
    "\n",
    "x_values = first_approach.index\n",
    "display(fit_para)\n",
    "# plt.plot(x_values, exp_decay(first_approach.index, *fit_para))\n",
    "plt.plot(x_values, first_approach[\"_value\"])\n",
    "plt.yscale(\"log\")"
   ]
  },
  {
   "cell_type": "code",
   "execution_count": null,
   "id": "b16c103d-434e-4452-b2e8-6ebe80c535d2",
   "metadata": {},
   "outputs": [],
   "source": []
  }
 ],
 "metadata": {
  "kernelspec": {
   "display_name": "helium-accommodation-o25GXiqq-py3.10",
   "language": "python",
   "name": "python3"
  },
  "language_info": {
   "codemirror_mode": {
    "name": "ipython",
    "version": 3
   },
   "file_extension": ".py",
   "mimetype": "text/x-python",
   "name": "python",
   "nbconvert_exporter": "python",
   "pygments_lexer": "ipython3",
   "version": "3.10.6 | packaged by conda-forge | (main, Aug 22 2022, 20:38:29) [Clang 13.0.1 ]"
  },
  "vscode": {
   "interpreter": {
    "hash": "42d1ca236df30ff764303fd18a7e12f1f0fac5065a7d06ed8d6d6277b89102e8"
   }
  }
 },
 "nbformat": 4,
 "nbformat_minor": 5
}
