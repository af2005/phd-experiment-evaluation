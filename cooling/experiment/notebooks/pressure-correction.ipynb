{
 "cells": [
  {
   "cell_type": "markdown",
   "metadata": {
    "tags": []
   },
   "source": [
    "# Pressure measuring\n",
    "\n",
    "\n",
    "We measure the pressure with a capacitive gauge, which is gas independent. We measure outside the cryostat, at the gas handling system.\n",
    "\n",
    "## Injecting helium\n",
    "Helium is injected from a bottle through a cold trap, removing most residual gases. However, right after injection the helium at the pressure gauge is most likely not at room temperature, but much colder. Hence, we observe a drop in pressure in the minutes after injection, even if we close every valve, especially the one the cryostat.\n",
    "\n",
    "##  Determination of the gas pressure around the test mass\n",
    "As written in 2021_07_08_gas_cooling_measurement.pdf,\n",
    "we actual pressure around the test mass is not identical to the pressure at the gauge.\n",
    "We connected gas handling and cryostat with a capillary\n",
    "and operate at temperatures where the gas is in the molecular flow regime while traveling through the capillary.\n",
    "This allows for the following correction:\n",
    "\n",
    "$\n",
    "\\frac{\\rho_{TM}}{\\rho_{G}} = \\sqrt{\\frac{T_{around TM}}{T_{room}}}\n",
    "$\n",
    "\n",
    "with the gas pressure around the test mass $\\rho_{TM}$,\n",
    "the gas pressure at the gauge $\\rho_{G}$,\n",
    "the temperature of the gas around the test mass $T_{around TM}$\n",
    "and the temperature of the gas at the gauge (=room temperature) $T_{room}$\n",
    "\n",
    "The pressure reading is thus dependent (and quite significant) on the gas temperature around the test mass.\n",
    "\n",
    "## Gas temperature around the test mass\n",
    "In the case of two parallel plates, as discussed in [1], we have identical accommodation on both plates,\n",
    "resulting in a trivial gas temperature of\n",
    "$0.5 T_{frame} + 0.5 T_{TM}$ around the test mass.\n",
    "\n",
    "However, if the accommodation coefficient of the two surfaces is not identical,\n",
    "the gas temperature is dependent on both accommodation coefficients.\n",
    "Let's discuss the two extreme cases.\n",
    "\n",
    "1. If the frame has $\\alpha_{frame} =1$ and the test mass $\\alpha_{TM} = 0$,\n",
    "the gas around the test mass has the temperature of the __frame__.\n",
    "$T_{around TM} = T_{frame}$\n",
    "\n",
    "2. Vice versa, if the frame has $\\alpha_{frame} =0$ and the test mass $\\alpha_{TM} = 1$,\n",
    "the gas around the test mass has the temperature of the __test mass__.\n",
    "$T_{around TM} = T_{TM}$\n",
    "\n",
    "In cases in-between, the $T_{around TM}$ is non-trivial.\n",
    "Intuitively, I would think that there is a linear relation:\n",
    "\n",
    "$\n",
    "T_{around TM} = \\frac{\\alpha_{frame}}{\\alpha_{frame}+\\alpha_{TM}}T_{frame} + \\frac{\\alpha_{TM}}{\\alpha_{frame}+\\alpha_{TM}}T_{TM}\n",
    "$\n",
    "\n",
    "\n",
    "In the following discussion, I always consider the accommodation coefficient of the frame to be equal unity,\n",
    "as assumed for our experiment.\n",
    "Hence,\n",
    "$\n",
    "T_{around TM} = \\frac{T_{frame} + \\alpha_{TM}T_{TM}}{1+ \\alpha_{TM}}\n",
    "$\n",
    "\n",
    "## Consequences for pressure readout and evaluation of experiemental accommodation\n",
    "As given in [1] we have\n",
    "$\n",
    "\\alpha_{TM} =  \\frac{b \\sqrt{T_{frame}} \\cdot P_{FM}}{\\rho_{TM} (T_{TM}-T_{frame})}\n",
    "$\n",
    "\n",
    "with\n",
    "$\n",
    "b = \\sqrt{\\frac{\\pi m_{He}}{8k_bA^2}}\n",
    "$\n",
    "\n",
    "With (1) we have\n",
    "$\n",
    "\\alpha_{TM} =  \\frac{b \\sqrt{T_{frame}} \\cdot P_{G}}{\\rho_{TM} (T_{TM}-T_{frame})} \\cdot \\sqrt\\frac{T_{room}}{T_{around TM}}\n",
    "= \\frac{b \\sqrt{T_{frame}} \\cdot P_{G}}{\\rho_{TM} (T_{TM}-T_{frame})} \\cdot \\sqrt\\frac{T_{room} (1+ \\alpha_{TM})}{T_{frame} + \\alpha_{TM}T_{TM}}\n",
    "$\n",
    "\n",
    "Which is solvable for $\\alpha_{TM}$ analytically by wolframalpha\n",
    "https://www.wolframalpha.com/input?i=solve+for+a+in+a%3Db*sqrt%28t%29+*+P+*+%28sqrt%28l*%281%2Ba%29%2F%28t%2Ba*T%29%29%29+%2F+%28rho+*+%28T-t%29%29\n",
    "\n",
    "but immensely complicated, so I leave it out here.\n"
   ]
  },
  {
   "cell_type": "code",
   "execution_count": null,
   "metadata": {
    "collapsed": false,
    "jupyter": {
     "outputs_hidden": false
    }
   },
   "outputs": [],
   "source": []
  },
  {
   "cell_type": "raw",
   "metadata": {},
   "source": [
    "[1] Reinhardt, C., Franke, A., Schaffran, J., Schnabel, R., & Lindner, A. (2021). Gas cooling of test masses for future gravitational-wave observatories. arXiv preprint arXiv:2101.09164\n"
   ]
  }
 ],
 "metadata": {
  "kernelspec": {
   "display_name": "Python 3 (ipykernel)",
   "language": "python",
   "name": "python3"
  },
  "language_info": {
   "codemirror_mode": {
    "name": "ipython",
    "version": 3
   },
   "file_extension": ".py",
   "mimetype": "text/x-python",
   "name": "python",
   "nbconvert_exporter": "python",
   "pygments_lexer": "ipython3",
   "version": "3.10.10"
  }
 },
 "nbformat": 4,
 "nbformat_minor": 4
}
