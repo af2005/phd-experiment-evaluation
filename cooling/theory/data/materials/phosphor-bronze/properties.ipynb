{
 "cells": [
  {
   "cell_type": "code",
   "id": "4f42dc4e1879d623",
   "metadata": {
    "collapsed": true,
    "ExecuteTime": {
     "end_time": "2024-07-23T15:51:54.276897Z",
     "start_time": "2024-07-23T15:51:54.245513Z"
    }
   },
   "source": [
    "import math\n",
    "\n",
    "import matplotlib.pyplot as plt\n",
    "import numpy as np\n",
    "import pandas as pd\n",
    "import scipy.interpolate\n",
    "from scipy.integrate import quad\n",
    "\n",
    "from helpers import figures\n",
    "\n",
    "\n",
    "def thermal_conductivity_NIST(T):\n",
    "    \"\"\"\n",
    "    NISTmonograph177-Propertiesofcopperandcopperalloysatcryogenictemperatures--OCR.pdf\n",
    "    :param T:\n",
    "    :return:\n",
    "    \"\"\"\n",
    "    tin_concentration = 5  # in percent\n",
    "    a = 0.4145\n",
    "    b = 1.563\n",
    "    c = -0.2285\n",
    "    d = -0.3234\n",
    "    e = 0.02500\n",
    "    return 10 ** (\n",
    "        a\n",
    "        + b * np.log10(T)\n",
    "        - c * np.log10(T) ** 2\n",
    "        - d * tin_concentration\n",
    "        + e * tin_concentration**2\n",
    "    )\n",
    "\n",
    "\n",
    "def thermal_conductivity(T):\n",
    "    \"\"\"\n",
    "    Data from https://ntrs.nasa.gov/api/citations/20090032058/downloads/20090032058.pdf\n",
    "    \"\"\"\n",
    "    a, b, c, d, e, f, g, h, i = (\n",
    "        -10.9482,\n",
    "        28.4752,\n",
    "        -32.3378,\n",
    "        20.9036,\n",
    "        -8.05399,\n",
    "        1.90329,\n",
    "        -0.271774,\n",
    "        0.0215998,\n",
    "        -7.35095e-4,\n",
    "    )\n",
    "    return math.e ** (\n",
    "        a\n",
    "        + b * np.log(T)\n",
    "        + c * np.log(T) ** 2\n",
    "        + d * np.log(T) ** 3\n",
    "        + e * np.log(T) ** 4\n",
    "        + f * np.log(T) ** 5\n",
    "        + g * np.log(T) ** 6\n",
    "        + h * np.log(T) ** 7\n",
    "        + i * np.log(T) ** 8\n",
    "    )\n",
    "\n",
    "\n",
    "def specific_heat(T):\n",
    "    print(\"____\")\n",
    "    tin_concentration = 5\n",
    "    debye = lambda x: math.e**x * x**4 / (math.e**x - 1) ** 2\n",
    "\n",
    "    gamma = (\n",
    "        0.698\n",
    "        + 0.00911 * tin_concentration\n",
    "        - 0.00128 * tin_concentration**2\n",
    "        + 6.54e-5 * tin_concentration**3\n",
    "    )\n",
    "    theta_D = 344 - 3.11 * tin_concentration\n",
    "    M = 1.187 * tin_concentration + 0.6354 * (100 - tin_concentration)  # gramm/mol\n",
    "\n",
    "    x_m = theta_D / T\n",
    "    debye_result, err = quad(debye, 0, x_m)\n",
    "    debye_value = 7.48e4 * debye_result / (x_m**3)\n",
    "\n",
    "    if 1.5 < T <= 4:\n",
    "        return gamma * T / M + 1.94e6 * (T / theta_D) ** 3 / M\n",
    "    c_i = debye_value / M\n",
    "    c_e = gamma * T / M\n",
    "    return c_e + c_i\n",
    "\n",
    "\n",
    "def _fit_thermal_expansion():\n",
    "    data = pd.read_csv(\"cte.csv\", index_col=\"temp\")[\"cte\"]\n",
    "    return scipy.interpolate.interp1d(x=data.index, y=data, assume_sorted=True, kind=\"cubic\")\n",
    "\n",
    "\n",
    "def thermal_expansion(T):\n",
    "    \"\"\"\n",
    "    data from https://tsapps.nist.gov/publication/get_pdf.cfm?pub_id=913059\n",
    "    :param T: temperature in kelvin\n",
    "    :return: coefficient of thermal expansion in 1/Kelvin\n",
    "    \"\"\"\n",
    "    return _fit_thermal_expansion()(T) * 1e-6\n",
    "\n",
    "\n",
    "print(thermal_expansion(11))\n",
    "\n",
    "\n",
    "# print([(T, specific_heat(T=T)) for T in np.linspace(4,104, num=21)])\n",
    "# print(specific_heat(T=77))\n",
    "# print(specific_heat(T=295))"
   ],
   "outputs": [
    {
     "name": "stdout",
     "output_type": "stream",
     "text": [
      "8.050163738933644e-08\n"
     ]
    }
   ],
   "execution_count": 3
  },
  {
   "cell_type": "code",
   "source": [
    "figures.initialize()\n",
    "fig, ax1 = plt.subplots(figsize=figures.set_size(subplots=(1, 2)))\n",
    "\n",
    "ax2 = ax1.twinx()\n",
    "xs = np.logspace(np.log10(4), np.log10(300))\n",
    "ys = thermal_conductivity(xs)\n",
    "\n",
    "ax1.semilogx(xs, ys, label=\"Heat conductivity\")\n",
    "ax2.loglog(xs, [specific_heat(T) for T in xs], label=\"Specific heat\", color=\"C2\")\n",
    "\n",
    "xlabel = plt.xlabel(\"Temperature (K)\")\n",
    "ylabel = ax1.set_ylabel(\"Thermal conductivity\\n(W/m·K)\")\n",
    "ylabel2 = ax2.set_ylabel(\"Specific heat capacity\\n(J/kg·K)\")\n",
    "ylabel2.set_color(\"C2\")\n",
    "ax1.set_xlabel(\"Temperature (K)\")\n",
    "ax2.tick_params(axis=\"y\", which=\"both\", colors=\"C2\")\n",
    "ax2.spines[\"right\"].set_color(\"C2\")\n",
    "# fig.legend(loc='lower right', bbox_to_anchor=(0.85, 0.15), frameon=False)\n",
    "ax1.grid(which=\"major\", axis=\"x\")\n",
    "fig.savefig(\n",
    "    \"thermal-properties.ignore.pdf\",\n",
    "    backend=\"pgf\",\n",
    ")\n",
    "fig.savefig(\n",
    "    \"thermal-properties.pgf\",\n",
    "    backend=\"pgf\",\n",
    ")\n",
    "plt.close(fig)"
   ],
   "metadata": {
    "collapsed": false,
    "ExecuteTime": {
     "end_time": "2024-07-23T16:03:49.655768Z",
     "start_time": "2024-07-23T16:03:48.025494Z"
    }
   },
   "id": "initial_id",
   "outputs": [
    {
     "name": "stdout",
     "output_type": "stream",
     "text": [
      "____\n",
      "____\n",
      "____\n",
      "____\n",
      "____\n",
      "____\n",
      "____\n",
      "____\n",
      "____\n",
      "____\n",
      "____\n",
      "____\n",
      "____\n",
      "____\n",
      "____\n",
      "____\n",
      "____\n",
      "____\n",
      "____\n",
      "____\n",
      "____\n",
      "____\n",
      "____\n",
      "____\n",
      "____\n",
      "____\n",
      "____\n",
      "____\n",
      "____\n",
      "____\n",
      "____\n",
      "____\n",
      "____\n",
      "____\n",
      "____\n",
      "____\n",
      "____\n",
      "____\n",
      "____\n",
      "____\n",
      "____\n",
      "____\n",
      "____\n",
      "____\n",
      "____\n",
      "____\n",
      "____\n",
      "____\n",
      "____\n",
      "____\n"
     ]
    }
   ],
   "execution_count": 8
  },
  {
   "cell_type": "code",
   "execution_count": 76,
   "outputs": [
    {
     "data": {
      "text/plain": "2.718281828459045"
     },
     "execution_count": 76,
     "metadata": {},
     "output_type": "execute_result"
    }
   ],
   "source": [],
   "metadata": {
    "collapsed": false,
    "ExecuteTime": {
     "end_time": "2023-09-19T20:47:07.898083Z",
     "start_time": "2023-09-19T20:47:07.869360Z"
    }
   },
   "id": "531c709c0db3ba5c"
  },
  {
   "cell_type": "code",
   "execution_count": null,
   "outputs": [],
   "source": [],
   "metadata": {
    "collapsed": false
   },
   "id": "faf2ca3636b89ab1"
  }
 ],
 "metadata": {
  "kernelspec": {
   "display_name": "Python 3",
   "language": "python",
   "name": "python3"
  },
  "language_info": {
   "codemirror_mode": {
    "name": "ipython",
    "version": 2
   },
   "file_extension": ".py",
   "mimetype": "text/x-python",
   "name": "python",
   "nbconvert_exporter": "python",
   "pygments_lexer": "ipython2",
   "version": "2.7.6"
  }
 },
 "nbformat": 4,
 "nbformat_minor": 5
}
