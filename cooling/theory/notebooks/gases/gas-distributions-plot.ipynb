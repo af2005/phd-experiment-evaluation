{
 "cells": [
  {
   "cell_type": "code",
   "source": [
    "import matplotlib.pyplot as plt\n",
    "import numpy as np\n",
    "import scipy.constants as const\n",
    "\n",
    "import helpers\n",
    "\n",
    "helpers.figures.initialize()\n",
    "\n",
    "\n",
    "def speed_distribution(v, T=123):\n",
    "    mass = 6.646477 * 10 ** (-27)\n",
    "    vt = np.sqrt(const.k * T / mass)\n",
    "    return (v**3 / (2 * vt**4)) * np.exp(-(v**2) / (2 * vt**2))\n",
    "\n",
    "\n",
    "x = np.linspace(1, 2500, 100)\n",
    "# the function, which is y = x^2 here\n",
    "y_123 = speed_distribution(x, T=123)\n",
    "y_150 = speed_distribution(x, T=150)\n",
    "y_5 = speed_distribution(x, T=5)\n",
    "\n",
    "# setting the axes at the centre\n",
    "fig, (ax1, ax2) = plt.subplots(1, 2, figsize=helpers.figures.set_size(subplots=(1, 2)))\n",
    "\n",
    "ax1.set_yticks([0])\n",
    "ax1.set_xlabel(\"Velocity (m/s)\")\n",
    "ax1.set_ylabel(\"Probability\")\n",
    "# ax1.set_title(\"Speed distribution\")\n",
    "\n",
    "# plot the function\n",
    "ax1.plot(x, y_150, label=\"150 K\")\n",
    "\n",
    "ax1.plot(x, y_123, label=\"123 K\")\n",
    "ax1.plot(x, y_5, label=\"5 K\")\n",
    "ax1.legend()\n",
    "\n",
    "\n",
    "def knudsen_cosine_law(theta):\n",
    "    return np.cos(theta) / np.pi\n",
    "\n",
    "\n",
    "x = np.linspace(0, np.pi / 2, 100)\n",
    "y = knudsen_cosine_law(x)\n",
    "xlabel = ax2.set_xlabel(r\"$\\theta$ (rad)\")\n",
    "# ax2.set_title(\"Angle distribution\")\n",
    "ax2.set_yticks([])\n",
    "\n",
    "ax2.xaxis.set_major_locator(plt.MultipleLocator(np.pi / 4))\n",
    "# ax2.set_xticklabels([r\"0\", r\"$\\pi/4$\", r\"$\\pi/2$\"])\n",
    "\n",
    "ax2.xaxis.set_minor_locator(plt.MultipleLocator(np.pi / 4))\n",
    "ax2.xaxis.set_major_formatter(plt.FuncFormatter(helpers.figures.multiple_formatter(denominator=4)))\n",
    "ax2.plot(x, y)\n",
    "\n",
    "# show the plot\n",
    "plt.savefig(\n",
    "    \"speed-distribution.pgf\",\n",
    "    backend=\"pgf\",\n",
    ")\n",
    "plt.savefig(\n",
    "    \"speed-distribution.ignore.pdf\",\n",
    "    backend=\"pgf\",\n",
    ")\n",
    "plt.close(fig)"
   ],
   "metadata": {
    "collapsed": false,
    "ExecuteTime": {
     "end_time": "2024-07-29T14:11:49.074476Z",
     "start_time": "2024-07-29T14:11:47.572213Z"
    }
   },
   "outputs": [],
   "execution_count": 14
  },
  {
   "cell_type": "code",
   "source": [
    "fig, ax = plt.subplots(1, 1, figsize=helpers.figures.set_size(fraction=0.5, subplots=(1, 2)))\n",
    "\n",
    "plt.savefig(\"angle-distribution.pdf\")"
   ],
   "metadata": {
    "collapsed": false,
    "ExecuteTime": {
     "end_time": "2024-05-21T21:57:55.315142Z",
     "start_time": "2024-05-21T21:57:53.974148Z"
    }
   },
   "execution_count": 2,
   "outputs": []
  },
  {
   "cell_type": "code",
   "source": "",
   "metadata": {
    "collapsed": false,
    "ExecuteTime": {
     "end_time": "2024-05-21T21:58:03.451163Z",
     "start_time": "2024-05-21T21:58:03.449685Z"
    }
   },
   "execution_count": 2,
   "outputs": []
  },
  {
   "cell_type": "code",
   "source": [],
   "metadata": {
    "collapsed": false
   },
   "execution_count": null,
   "outputs": []
  }
 ],
 "metadata": {
  "kernelspec": {
   "display_name": "Python 3",
   "language": "python",
   "name": "python3"
  },
  "language_info": {
   "codemirror_mode": {
    "name": "ipython",
    "version": 2
   },
   "file_extension": ".py",
   "mimetype": "text/x-python",
   "name": "python",
   "nbconvert_exporter": "python",
   "pygments_lexer": "ipython2",
   "version": "2.7.6"
  }
 },
 "nbformat": 4,
 "nbformat_minor": 0
}
